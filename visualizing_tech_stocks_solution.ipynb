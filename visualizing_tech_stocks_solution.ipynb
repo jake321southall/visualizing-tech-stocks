{
 "cells": [
  {
   "cell_type": "markdown",
   "metadata": {},
   "source": [
    "## Visualizing Tech Stocks"
   ]
  },
  {
   "cell_type": "markdown",
   "metadata": {},
   "source": [
    "In this project you will analyze and visualize the top 5 highest valued technology stocks, as of the end of the first half of 2019:\n",
    "* Microsoft (NASDAQ:MSFT)\n",
    "* Amazon (NASDAQ:AMZN)\n",
    "* Apple (NASDAQ:AAPL)\n",
    "* Alphabet (NASDAQ:GOOG)\n",
    "* Facebook (NASDAQ:FB).\n",
    "\n",
    "Using Pandas, Pandas-Datarader, and Matplotlib, you will take a visual look into the similarities and differences between these stocks during the six month period from January through June 2019. In your analysis you will perform the following:\n",
    "1. Visualize the stock prices using matplotlib\n",
    "2. Calculate and visualize the daily simple rate of return \n",
    "3. Calculate and visualize the mean rates of return\n",
    "4. Calculate and visualize the variances of the returns\n",
    "5. Calculate and visualize the standard deviations of the returns\n",
    "6. Write a short thesis based on the correlations between the tech stocks"
   ]
  },
  {
   "cell_type": "markdown",
   "metadata": {},
   "source": [
    "### 1. Import Packages"
   ]
  },
  {
   "cell_type": "markdown",
   "metadata": {},
   "source": [
    "#### Step 1: Import Data Manipulation Packages\n",
    "Import the pandas and numpy module as `pd` and `np`, respectively"
   ]
  },
  {
   "cell_type": "code",
   "execution_count": 1,
   "metadata": {
    "ExecuteTime": {
     "end_time": "2019-09-20T17:07:04.003420Z",
     "start_time": "2019-09-20T17:07:03.119028Z"
    }
   },
   "outputs": [],
   "source": [
    "import pandas as pd\n",
    "import numpy as np"
   ]
  },
  {
   "cell_type": "markdown",
   "metadata": {},
   "source": [
    "#### Step 2: Import Financial Package\n",
    "Import the pandas data reader module as `web`. (Ensure the module is installed with `pip install pandas-datareader` on the command line)"
   ]
  },
  {
   "cell_type": "code",
   "execution_count": 2,
   "metadata": {
    "ExecuteTime": {
     "end_time": "2019-09-20T17:09:14.195426Z",
     "start_time": "2019-09-20T17:09:13.727288Z"
    }
   },
   "outputs": [],
   "source": [
    "import pandas_datareader as web"
   ]
  },
  {
   "cell_type": "markdown",
   "metadata": {},
   "source": [
    "#### Step 3: Import Visualization Package\n",
    "Import the matplotlib `pyplot` module as `plt`. (Write `%matplotlib inline` below the import statement to allow your visualizations to appear beneath the code that generates them)"
   ]
  },
  {
   "cell_type": "code",
   "execution_count": 3,
   "metadata": {
    "ExecuteTime": {
     "end_time": "2019-09-20T17:09:59.493267Z",
     "start_time": "2019-09-20T17:09:59.116556Z"
    }
   },
   "outputs": [],
   "source": [
    "import matplotlib.pyplot as plt\n",
    "%matplotlib inline"
   ]
  },
  {
   "cell_type": "markdown",
   "metadata": {},
   "source": [
    "### 2. Load the adjusted closings for the top 5 tech stocks."
   ]
  },
  {
   "cell_type": "markdown",
   "metadata": {},
   "source": [
    "#### Step 1: Define Stocks\n",
    "Create a list named `symbols` containing the symbols for the top 5 tech stocks.\n",
    "#### Step 2: Create Dates\n",
    "Create a datetime object representing January 1st, 2019 named `start_date` and a datetime object representing July 1st, 2019 named `end_date`.\n",
    "#### Step 3: Retrieve Data\n",
    "Call the function `web.get_data_yahoo()` with arguments `symbols`, `start_date` and `end_date` and save the result to `stock_data`.\n",
    "#### Step 4: View Data\n",
    "View both `stock_data` and `stock_data['Adj Close']`. What information is stored in these DataFrames?"
   ]
  },
  {
   "cell_type": "code",
   "execution_count": 4,
   "metadata": {
    "ExecuteTime": {
     "end_time": "2019-09-20T17:28:56.911801Z",
     "start_time": "2019-09-20T17:28:54.050648Z"
    }
   },
   "outputs": [],
   "source": [
    "symbols = [\"MSFT\", \"AMZN\", \"AAPL\", \"GOOG\", \"FB\"]\n",
    "start_date = \"2019-01-01\"\n",
    "end_date = \"2019-07-01\"\n",
    "stock_data = web.get_data_yahoo(symbols, start_date, end_date)"
   ]
  },
  {
   "cell_type": "code",
   "execution_count": 5,
   "metadata": {
    "ExecuteTime": {
     "end_time": "2019-09-20T17:30:17.329249Z",
     "start_time": "2019-09-20T17:30:17.193738Z"
    }
   },
   "outputs": [
    {
     "data": {
      "text/html": [
       "<div>\n",
       "<style scoped>\n",
       "    .dataframe tbody tr th:only-of-type {\n",
       "        vertical-align: middle;\n",
       "    }\n",
       "\n",
       "    .dataframe tbody tr th {\n",
       "        vertical-align: top;\n",
       "    }\n",
       "\n",
       "    .dataframe thead tr th {\n",
       "        text-align: left;\n",
       "    }\n",
       "\n",
       "    .dataframe thead tr:last-of-type th {\n",
       "        text-align: right;\n",
       "    }\n",
       "</style>\n",
       "<table border=\"1\" class=\"dataframe\">\n",
       "  <thead>\n",
       "    <tr>\n",
       "      <th>Attributes</th>\n",
       "      <th colspan=\"5\" halign=\"left\">Adj Close</th>\n",
       "      <th colspan=\"5\" halign=\"left\">Close</th>\n",
       "      <th>...</th>\n",
       "      <th colspan=\"5\" halign=\"left\">Open</th>\n",
       "      <th colspan=\"5\" halign=\"left\">Volume</th>\n",
       "    </tr>\n",
       "    <tr>\n",
       "      <th>Symbols</th>\n",
       "      <th>MSFT</th>\n",
       "      <th>AMZN</th>\n",
       "      <th>AAPL</th>\n",
       "      <th>GOOG</th>\n",
       "      <th>FB</th>\n",
       "      <th>MSFT</th>\n",
       "      <th>AMZN</th>\n",
       "      <th>AAPL</th>\n",
       "      <th>GOOG</th>\n",
       "      <th>FB</th>\n",
       "      <th>...</th>\n",
       "      <th>MSFT</th>\n",
       "      <th>AMZN</th>\n",
       "      <th>AAPL</th>\n",
       "      <th>GOOG</th>\n",
       "      <th>FB</th>\n",
       "      <th>MSFT</th>\n",
       "      <th>AMZN</th>\n",
       "      <th>AAPL</th>\n",
       "      <th>GOOG</th>\n",
       "      <th>FB</th>\n",
       "    </tr>\n",
       "    <tr>\n",
       "      <th>Date</th>\n",
       "      <th></th>\n",
       "      <th></th>\n",
       "      <th></th>\n",
       "      <th></th>\n",
       "      <th></th>\n",
       "      <th></th>\n",
       "      <th></th>\n",
       "      <th></th>\n",
       "      <th></th>\n",
       "      <th></th>\n",
       "      <th></th>\n",
       "      <th></th>\n",
       "      <th></th>\n",
       "      <th></th>\n",
       "      <th></th>\n",
       "      <th></th>\n",
       "      <th></th>\n",
       "      <th></th>\n",
       "      <th></th>\n",
       "      <th></th>\n",
       "      <th></th>\n",
       "    </tr>\n",
       "  </thead>\n",
       "  <tbody>\n",
       "    <tr>\n",
       "      <th>2019-01-02</th>\n",
       "      <td>97.147705</td>\n",
       "      <td>76.956497</td>\n",
       "      <td>38.168350</td>\n",
       "      <td>52.292500</td>\n",
       "      <td>NaN</td>\n",
       "      <td>101.120003</td>\n",
       "      <td>76.956497</td>\n",
       "      <td>39.480000</td>\n",
       "      <td>52.292500</td>\n",
       "      <td>NaN</td>\n",
       "      <td>...</td>\n",
       "      <td>99.550003</td>\n",
       "      <td>73.260002</td>\n",
       "      <td>38.722500</td>\n",
       "      <td>50.828499</td>\n",
       "      <td>NaN</td>\n",
       "      <td>35329300.0</td>\n",
       "      <td>159662000.0</td>\n",
       "      <td>148158800.0</td>\n",
       "      <td>30652000.0</td>\n",
       "      <td>NaN</td>\n",
       "    </tr>\n",
       "    <tr>\n",
       "      <th>2019-01-03</th>\n",
       "      <td>93.573830</td>\n",
       "      <td>75.014000</td>\n",
       "      <td>34.366497</td>\n",
       "      <td>50.803001</td>\n",
       "      <td>NaN</td>\n",
       "      <td>97.400002</td>\n",
       "      <td>75.014000</td>\n",
       "      <td>35.547501</td>\n",
       "      <td>50.803001</td>\n",
       "      <td>NaN</td>\n",
       "      <td>...</td>\n",
       "      <td>100.099998</td>\n",
       "      <td>76.000504</td>\n",
       "      <td>35.994999</td>\n",
       "      <td>52.049999</td>\n",
       "      <td>NaN</td>\n",
       "      <td>42579100.0</td>\n",
       "      <td>139512000.0</td>\n",
       "      <td>365248800.0</td>\n",
       "      <td>36822000.0</td>\n",
       "      <td>NaN</td>\n",
       "    </tr>\n",
       "    <tr>\n",
       "      <th>2019-01-04</th>\n",
       "      <td>97.925888</td>\n",
       "      <td>78.769501</td>\n",
       "      <td>35.833580</td>\n",
       "      <td>53.535500</td>\n",
       "      <td>NaN</td>\n",
       "      <td>101.930000</td>\n",
       "      <td>78.769501</td>\n",
       "      <td>37.064999</td>\n",
       "      <td>53.535500</td>\n",
       "      <td>NaN</td>\n",
       "      <td>...</td>\n",
       "      <td>99.720001</td>\n",
       "      <td>76.500000</td>\n",
       "      <td>36.132500</td>\n",
       "      <td>51.629501</td>\n",
       "      <td>NaN</td>\n",
       "      <td>44060600.0</td>\n",
       "      <td>183652000.0</td>\n",
       "      <td>234428400.0</td>\n",
       "      <td>41878000.0</td>\n",
       "      <td>NaN</td>\n",
       "    </tr>\n",
       "    <tr>\n",
       "      <th>2019-01-07</th>\n",
       "      <td>98.050781</td>\n",
       "      <td>81.475502</td>\n",
       "      <td>35.753822</td>\n",
       "      <td>53.419498</td>\n",
       "      <td>NaN</td>\n",
       "      <td>102.059998</td>\n",
       "      <td>81.475502</td>\n",
       "      <td>36.982498</td>\n",
       "      <td>53.419498</td>\n",
       "      <td>NaN</td>\n",
       "      <td>...</td>\n",
       "      <td>101.639999</td>\n",
       "      <td>80.115501</td>\n",
       "      <td>37.174999</td>\n",
       "      <td>53.575001</td>\n",
       "      <td>NaN</td>\n",
       "      <td>35656100.0</td>\n",
       "      <td>159864000.0</td>\n",
       "      <td>219111200.0</td>\n",
       "      <td>39638000.0</td>\n",
       "      <td>NaN</td>\n",
       "    </tr>\n",
       "    <tr>\n",
       "      <th>2019-01-08</th>\n",
       "      <td>98.761711</td>\n",
       "      <td>82.829002</td>\n",
       "      <td>36.435398</td>\n",
       "      <td>53.813999</td>\n",
       "      <td>NaN</td>\n",
       "      <td>102.800003</td>\n",
       "      <td>82.829002</td>\n",
       "      <td>37.687500</td>\n",
       "      <td>53.813999</td>\n",
       "      <td>NaN</td>\n",
       "      <td>...</td>\n",
       "      <td>103.040001</td>\n",
       "      <td>83.234497</td>\n",
       "      <td>37.389999</td>\n",
       "      <td>53.805500</td>\n",
       "      <td>NaN</td>\n",
       "      <td>31514400.0</td>\n",
       "      <td>177628000.0</td>\n",
       "      <td>164101200.0</td>\n",
       "      <td>35298000.0</td>\n",
       "      <td>NaN</td>\n",
       "    </tr>\n",
       "    <tr>\n",
       "      <th>...</th>\n",
       "      <td>...</td>\n",
       "      <td>...</td>\n",
       "      <td>...</td>\n",
       "      <td>...</td>\n",
       "      <td>...</td>\n",
       "      <td>...</td>\n",
       "      <td>...</td>\n",
       "      <td>...</td>\n",
       "      <td>...</td>\n",
       "      <td>...</td>\n",
       "      <td>...</td>\n",
       "      <td>...</td>\n",
       "      <td>...</td>\n",
       "      <td>...</td>\n",
       "      <td>...</td>\n",
       "      <td>...</td>\n",
       "      <td>...</td>\n",
       "      <td>...</td>\n",
       "      <td>...</td>\n",
       "      <td>...</td>\n",
       "      <td>...</td>\n",
       "    </tr>\n",
       "    <tr>\n",
       "      <th>2022-09-13</th>\n",
       "      <td>NaN</td>\n",
       "      <td>NaN</td>\n",
       "      <td>NaN</td>\n",
       "      <td>NaN</td>\n",
       "      <td>153.130005</td>\n",
       "      <td>NaN</td>\n",
       "      <td>NaN</td>\n",
       "      <td>NaN</td>\n",
       "      <td>NaN</td>\n",
       "      <td>153.130005</td>\n",
       "      <td>...</td>\n",
       "      <td>NaN</td>\n",
       "      <td>NaN</td>\n",
       "      <td>NaN</td>\n",
       "      <td>NaN</td>\n",
       "      <td>161.539993</td>\n",
       "      <td>NaN</td>\n",
       "      <td>NaN</td>\n",
       "      <td>NaN</td>\n",
       "      <td>NaN</td>\n",
       "      <td>44444100.0</td>\n",
       "    </tr>\n",
       "    <tr>\n",
       "      <th>2022-09-14</th>\n",
       "      <td>NaN</td>\n",
       "      <td>NaN</td>\n",
       "      <td>NaN</td>\n",
       "      <td>NaN</td>\n",
       "      <td>151.470001</td>\n",
       "      <td>NaN</td>\n",
       "      <td>NaN</td>\n",
       "      <td>NaN</td>\n",
       "      <td>NaN</td>\n",
       "      <td>151.470001</td>\n",
       "      <td>...</td>\n",
       "      <td>NaN</td>\n",
       "      <td>NaN</td>\n",
       "      <td>NaN</td>\n",
       "      <td>NaN</td>\n",
       "      <td>153.330002</td>\n",
       "      <td>NaN</td>\n",
       "      <td>NaN</td>\n",
       "      <td>NaN</td>\n",
       "      <td>NaN</td>\n",
       "      <td>43064200.0</td>\n",
       "    </tr>\n",
       "    <tr>\n",
       "      <th>2022-09-15</th>\n",
       "      <td>NaN</td>\n",
       "      <td>NaN</td>\n",
       "      <td>NaN</td>\n",
       "      <td>NaN</td>\n",
       "      <td>149.550003</td>\n",
       "      <td>NaN</td>\n",
       "      <td>NaN</td>\n",
       "      <td>NaN</td>\n",
       "      <td>NaN</td>\n",
       "      <td>149.550003</td>\n",
       "      <td>...</td>\n",
       "      <td>NaN</td>\n",
       "      <td>NaN</td>\n",
       "      <td>NaN</td>\n",
       "      <td>NaN</td>\n",
       "      <td>149.800003</td>\n",
       "      <td>NaN</td>\n",
       "      <td>NaN</td>\n",
       "      <td>NaN</td>\n",
       "      <td>NaN</td>\n",
       "      <td>34606300.0</td>\n",
       "    </tr>\n",
       "    <tr>\n",
       "      <th>2022-09-16</th>\n",
       "      <td>NaN</td>\n",
       "      <td>NaN</td>\n",
       "      <td>NaN</td>\n",
       "      <td>NaN</td>\n",
       "      <td>146.289993</td>\n",
       "      <td>NaN</td>\n",
       "      <td>NaN</td>\n",
       "      <td>NaN</td>\n",
       "      <td>NaN</td>\n",
       "      <td>146.289993</td>\n",
       "      <td>...</td>\n",
       "      <td>NaN</td>\n",
       "      <td>NaN</td>\n",
       "      <td>NaN</td>\n",
       "      <td>NaN</td>\n",
       "      <td>148.050003</td>\n",
       "      <td>NaN</td>\n",
       "      <td>NaN</td>\n",
       "      <td>NaN</td>\n",
       "      <td>NaN</td>\n",
       "      <td>40018700.0</td>\n",
       "    </tr>\n",
       "    <tr>\n",
       "      <th>2022-09-19</th>\n",
       "      <td>NaN</td>\n",
       "      <td>NaN</td>\n",
       "      <td>NaN</td>\n",
       "      <td>NaN</td>\n",
       "      <td>148.020004</td>\n",
       "      <td>NaN</td>\n",
       "      <td>NaN</td>\n",
       "      <td>NaN</td>\n",
       "      <td>NaN</td>\n",
       "      <td>148.020004</td>\n",
       "      <td>...</td>\n",
       "      <td>NaN</td>\n",
       "      <td>NaN</td>\n",
       "      <td>NaN</td>\n",
       "      <td>NaN</td>\n",
       "      <td>145.240005</td>\n",
       "      <td>NaN</td>\n",
       "      <td>NaN</td>\n",
       "      <td>NaN</td>\n",
       "      <td>NaN</td>\n",
       "      <td>22142100.0</td>\n",
       "    </tr>\n",
       "  </tbody>\n",
       "</table>\n",
       "<p>377 rows × 30 columns</p>\n",
       "</div>"
      ],
      "text/plain": [
       "Attributes  Adj Close                                               \\\n",
       "Symbols          MSFT       AMZN       AAPL       GOOG          FB   \n",
       "Date                                                                 \n",
       "2019-01-02  97.147705  76.956497  38.168350  52.292500         NaN   \n",
       "2019-01-03  93.573830  75.014000  34.366497  50.803001         NaN   \n",
       "2019-01-04  97.925888  78.769501  35.833580  53.535500         NaN   \n",
       "2019-01-07  98.050781  81.475502  35.753822  53.419498         NaN   \n",
       "2019-01-08  98.761711  82.829002  36.435398  53.813999         NaN   \n",
       "...               ...        ...        ...        ...         ...   \n",
       "2022-09-13        NaN        NaN        NaN        NaN  153.130005   \n",
       "2022-09-14        NaN        NaN        NaN        NaN  151.470001   \n",
       "2022-09-15        NaN        NaN        NaN        NaN  149.550003   \n",
       "2022-09-16        NaN        NaN        NaN        NaN  146.289993   \n",
       "2022-09-19        NaN        NaN        NaN        NaN  148.020004   \n",
       "\n",
       "Attributes       Close                                               ...  \\\n",
       "Symbols           MSFT       AMZN       AAPL       GOOG          FB  ...   \n",
       "Date                                                                 ...   \n",
       "2019-01-02  101.120003  76.956497  39.480000  52.292500         NaN  ...   \n",
       "2019-01-03   97.400002  75.014000  35.547501  50.803001         NaN  ...   \n",
       "2019-01-04  101.930000  78.769501  37.064999  53.535500         NaN  ...   \n",
       "2019-01-07  102.059998  81.475502  36.982498  53.419498         NaN  ...   \n",
       "2019-01-08  102.800003  82.829002  37.687500  53.813999         NaN  ...   \n",
       "...                ...        ...        ...        ...         ...  ...   \n",
       "2022-09-13         NaN        NaN        NaN        NaN  153.130005  ...   \n",
       "2022-09-14         NaN        NaN        NaN        NaN  151.470001  ...   \n",
       "2022-09-15         NaN        NaN        NaN        NaN  149.550003  ...   \n",
       "2022-09-16         NaN        NaN        NaN        NaN  146.289993  ...   \n",
       "2022-09-19         NaN        NaN        NaN        NaN  148.020004  ...   \n",
       "\n",
       "Attributes        Open                                               \\\n",
       "Symbols           MSFT       AMZN       AAPL       GOOG          FB   \n",
       "Date                                                                  \n",
       "2019-01-02   99.550003  73.260002  38.722500  50.828499         NaN   \n",
       "2019-01-03  100.099998  76.000504  35.994999  52.049999         NaN   \n",
       "2019-01-04   99.720001  76.500000  36.132500  51.629501         NaN   \n",
       "2019-01-07  101.639999  80.115501  37.174999  53.575001         NaN   \n",
       "2019-01-08  103.040001  83.234497  37.389999  53.805500         NaN   \n",
       "...                ...        ...        ...        ...         ...   \n",
       "2022-09-13         NaN        NaN        NaN        NaN  161.539993   \n",
       "2022-09-14         NaN        NaN        NaN        NaN  153.330002   \n",
       "2022-09-15         NaN        NaN        NaN        NaN  149.800003   \n",
       "2022-09-16         NaN        NaN        NaN        NaN  148.050003   \n",
       "2022-09-19         NaN        NaN        NaN        NaN  145.240005   \n",
       "\n",
       "Attributes      Volume                                                    \n",
       "Symbols           MSFT         AMZN         AAPL        GOOG          FB  \n",
       "Date                                                                      \n",
       "2019-01-02  35329300.0  159662000.0  148158800.0  30652000.0         NaN  \n",
       "2019-01-03  42579100.0  139512000.0  365248800.0  36822000.0         NaN  \n",
       "2019-01-04  44060600.0  183652000.0  234428400.0  41878000.0         NaN  \n",
       "2019-01-07  35656100.0  159864000.0  219111200.0  39638000.0         NaN  \n",
       "2019-01-08  31514400.0  177628000.0  164101200.0  35298000.0         NaN  \n",
       "...                ...          ...          ...         ...         ...  \n",
       "2022-09-13         NaN          NaN          NaN         NaN  44444100.0  \n",
       "2022-09-14         NaN          NaN          NaN         NaN  43064200.0  \n",
       "2022-09-15         NaN          NaN          NaN         NaN  34606300.0  \n",
       "2022-09-16         NaN          NaN          NaN         NaN  40018700.0  \n",
       "2022-09-19         NaN          NaN          NaN         NaN  22142100.0  \n",
       "\n",
       "[377 rows x 30 columns]"
      ]
     },
     "execution_count": 5,
     "metadata": {},
     "output_type": "execute_result"
    }
   ],
   "source": [
    "stock_data"
   ]
  },
  {
   "cell_type": "code",
   "execution_count": 6,
   "metadata": {
    "ExecuteTime": {
     "end_time": "2019-09-20T17:40:37.867792Z",
     "start_time": "2019-09-20T17:40:37.845614Z"
    }
   },
   "outputs": [
    {
     "data": {
      "text/html": [
       "<div>\n",
       "<style scoped>\n",
       "    .dataframe tbody tr th:only-of-type {\n",
       "        vertical-align: middle;\n",
       "    }\n",
       "\n",
       "    .dataframe tbody tr th {\n",
       "        vertical-align: top;\n",
       "    }\n",
       "\n",
       "    .dataframe thead th {\n",
       "        text-align: right;\n",
       "    }\n",
       "</style>\n",
       "<table border=\"1\" class=\"dataframe\">\n",
       "  <thead>\n",
       "    <tr style=\"text-align: right;\">\n",
       "      <th>Symbols</th>\n",
       "      <th>MSFT</th>\n",
       "      <th>AMZN</th>\n",
       "      <th>AAPL</th>\n",
       "      <th>GOOG</th>\n",
       "      <th>FB</th>\n",
       "    </tr>\n",
       "    <tr>\n",
       "      <th>Date</th>\n",
       "      <th></th>\n",
       "      <th></th>\n",
       "      <th></th>\n",
       "      <th></th>\n",
       "      <th></th>\n",
       "    </tr>\n",
       "  </thead>\n",
       "  <tbody>\n",
       "    <tr>\n",
       "      <th>2019-01-02</th>\n",
       "      <td>97.147705</td>\n",
       "      <td>76.956497</td>\n",
       "      <td>38.168350</td>\n",
       "      <td>52.292500</td>\n",
       "      <td>NaN</td>\n",
       "    </tr>\n",
       "    <tr>\n",
       "      <th>2019-01-03</th>\n",
       "      <td>93.573830</td>\n",
       "      <td>75.014000</td>\n",
       "      <td>34.366497</td>\n",
       "      <td>50.803001</td>\n",
       "      <td>NaN</td>\n",
       "    </tr>\n",
       "    <tr>\n",
       "      <th>2019-01-04</th>\n",
       "      <td>97.925888</td>\n",
       "      <td>78.769501</td>\n",
       "      <td>35.833580</td>\n",
       "      <td>53.535500</td>\n",
       "      <td>NaN</td>\n",
       "    </tr>\n",
       "    <tr>\n",
       "      <th>2019-01-07</th>\n",
       "      <td>98.050781</td>\n",
       "      <td>81.475502</td>\n",
       "      <td>35.753822</td>\n",
       "      <td>53.419498</td>\n",
       "      <td>NaN</td>\n",
       "    </tr>\n",
       "    <tr>\n",
       "      <th>2019-01-08</th>\n",
       "      <td>98.761711</td>\n",
       "      <td>82.829002</td>\n",
       "      <td>36.435398</td>\n",
       "      <td>53.813999</td>\n",
       "      <td>NaN</td>\n",
       "    </tr>\n",
       "    <tr>\n",
       "      <th>...</th>\n",
       "      <td>...</td>\n",
       "      <td>...</td>\n",
       "      <td>...</td>\n",
       "      <td>...</td>\n",
       "      <td>...</td>\n",
       "    </tr>\n",
       "    <tr>\n",
       "      <th>2022-09-13</th>\n",
       "      <td>NaN</td>\n",
       "      <td>NaN</td>\n",
       "      <td>NaN</td>\n",
       "      <td>NaN</td>\n",
       "      <td>153.130005</td>\n",
       "    </tr>\n",
       "    <tr>\n",
       "      <th>2022-09-14</th>\n",
       "      <td>NaN</td>\n",
       "      <td>NaN</td>\n",
       "      <td>NaN</td>\n",
       "      <td>NaN</td>\n",
       "      <td>151.470001</td>\n",
       "    </tr>\n",
       "    <tr>\n",
       "      <th>2022-09-15</th>\n",
       "      <td>NaN</td>\n",
       "      <td>NaN</td>\n",
       "      <td>NaN</td>\n",
       "      <td>NaN</td>\n",
       "      <td>149.550003</td>\n",
       "    </tr>\n",
       "    <tr>\n",
       "      <th>2022-09-16</th>\n",
       "      <td>NaN</td>\n",
       "      <td>NaN</td>\n",
       "      <td>NaN</td>\n",
       "      <td>NaN</td>\n",
       "      <td>146.289993</td>\n",
       "    </tr>\n",
       "    <tr>\n",
       "      <th>2022-09-19</th>\n",
       "      <td>NaN</td>\n",
       "      <td>NaN</td>\n",
       "      <td>NaN</td>\n",
       "      <td>NaN</td>\n",
       "      <td>148.020004</td>\n",
       "    </tr>\n",
       "  </tbody>\n",
       "</table>\n",
       "<p>377 rows × 5 columns</p>\n",
       "</div>"
      ],
      "text/plain": [
       "Symbols          MSFT       AMZN       AAPL       GOOG          FB\n",
       "Date                                                              \n",
       "2019-01-02  97.147705  76.956497  38.168350  52.292500         NaN\n",
       "2019-01-03  93.573830  75.014000  34.366497  50.803001         NaN\n",
       "2019-01-04  97.925888  78.769501  35.833580  53.535500         NaN\n",
       "2019-01-07  98.050781  81.475502  35.753822  53.419498         NaN\n",
       "2019-01-08  98.761711  82.829002  36.435398  53.813999         NaN\n",
       "...               ...        ...        ...        ...         ...\n",
       "2022-09-13        NaN        NaN        NaN        NaN  153.130005\n",
       "2022-09-14        NaN        NaN        NaN        NaN  151.470001\n",
       "2022-09-15        NaN        NaN        NaN        NaN  149.550003\n",
       "2022-09-16        NaN        NaN        NaN        NaN  146.289993\n",
       "2022-09-19        NaN        NaN        NaN        NaN  148.020004\n",
       "\n",
       "[377 rows x 5 columns]"
      ]
     },
     "execution_count": 6,
     "metadata": {},
     "output_type": "execute_result"
    }
   ],
   "source": [
    "stock_data['Adj Close']"
   ]
  },
  {
   "cell_type": "markdown",
   "metadata": {},
   "source": [
    "### 3. Plot the adjusted closing prices over time."
   ]
  },
  {
   "cell_type": "markdown",
   "metadata": {},
   "source": [
    "Create a plot with matplotlib that shows the adjusted closing prices of each stock over time. Set the x label to `\"Date\"`. Set the y label to `\"Adjusted Closing Price Over Time\"`. Set the graph title to `\"Tech Stocks Adjusted Price\"`."
   ]
  },
  {
   "cell_type": "code",
   "execution_count": 7,
   "metadata": {
    "ExecuteTime": {
     "end_time": "2019-09-20T17:41:01.873022Z",
     "start_time": "2019-09-20T17:41:01.687043Z"
    }
   },
   "outputs": [
    {
     "data": {
      "image/png": "[encoded data removed]",
      "text/plain": [
       "<Figure size 432x288 with 1 Axes>"
      ]
     },
     "metadata": {
      "needs_background": "light"
     },
     "output_type": "display_data"
    }
   ],
   "source": [
    "stock_data_closing_prices = stock_data['Adj Close']\n",
    "stock_data_closing_prices.plot()\n",
    "plt.xlabel(\"Date\")\n",
    "plt.ylabel(\"Adjusted Closing Price\")\n",
    "plt.title(\"Tech Stocks Adjusted Price Over Time\")\n",
    "plt.show()"
   ]
  },
  {
   "cell_type": "markdown",
   "metadata": {},
   "source": [
    "### 4. Calculate and plot the daily simple rate of return over time.\n",
    "Create a plot with matplotlib that shows the daily simple rate of return for each tech stock over time. Label the graph appropriately. "
   ]
  },
  {
   "cell_type": "code",
   "execution_count": 8,
   "metadata": {
    "ExecuteTime": {
     "end_time": "2019-09-20T17:41:17.173004Z",
     "start_time": "2019-09-20T17:41:16.974468Z"
    }
   },
   "outputs": [
    {
     "data": {
      "image/png": "[encoded data removed]",
      "text/plain": [
       "<Figure size 432x288 with 1 Axes>"
      ]
     },
     "metadata": {
      "needs_background": "light"
     },
     "output_type": "display_data"
    },
    {
     "data": {
      "text/plain": [
       "<Figure size 1152x648 with 0 Axes>"
      ]
     },
     "metadata": {},
     "output_type": "display_data"
    }
   ],
   "source": [
    "stock_data_daily_returns = stock_data['Adj Close'].pct_change()\n",
    "stock_data_daily_returns.plot()\n",
    "plt.xlabel(\"Date\")\n",
    "plt.ylabel(\"ROR\")\n",
    "plt.title(\"Daily Simple Rate of Return Over time\")\n",
    "plt.figure(figsize=(16,9))\n",
    "plt.show()"
   ]
  },
  {
   "cell_type": "markdown",
   "metadata": {},
   "source": [
    "### 5. Create subplots of daily simple rate of return.\n",
    "In order to better visualize the daily returns, create a subplot for each tech stock. "
   ]
  },
  {
   "cell_type": "code",
   "execution_count": 9,
   "metadata": {
    "ExecuteTime": {
     "end_time": "2019-09-20T17:41:36.728365Z",
     "start_time": "2019-09-20T17:41:36.399525Z"
    }
   },
   "outputs": [
    {
     "data": {
      "image/png": "[encoded data removed]",
      "text/plain": [
       "<Figure size 1080x1080 with 5 Axes>"
      ]
     },
     "metadata": {
      "needs_background": "light"
     },
     "output_type": "display_data"
    }
   ],
   "source": [
    "fig = plt.figure(figsize=(15,15))\n",
    "ax1 = fig.add_subplot(321)\n",
    "ax2 = fig.add_subplot(322)\n",
    "ax3 = fig.add_subplot(323)\n",
    "ax4 = fig.add_subplot(324)\n",
    "ax5 = fig.add_subplot(325)\n",
    "ax1.plot(stock_data['Adj Close']['AMZN'].pct_change())\n",
    "ax1.set_title(\"Amazon\")\n",
    "ax2.plot(stock_data['Adj Close']['AAPL'].pct_change())\n",
    "ax2.set_title(\"Apple\")\n",
    "ax3.plot(stock_data['Adj Close']['FB'].pct_change())\n",
    "ax3.set_title(\"Facebook\")\n",
    "ax4.plot(stock_data['Adj Close']['MSFT'].pct_change())\n",
    "ax4.set_title(\"Microsoft\")\n",
    "ax5.plot(stock_data['Adj Close']['GOOG'].pct_change())\n",
    "ax5.set_title(\"Google\")\n",
    "plt.tight_layout()\n",
    "plt.show()"
   ]
  },
  {
   "cell_type": "markdown",
   "metadata": {},
   "source": [
    "### 6. Calculate and plot the mean of each tech stock's daily simple rate of return"
   ]
  },
  {
   "cell_type": "markdown",
   "metadata": {},
   "source": [
    "#### Step 1: Calculate mean rate of return\n",
    "For each stock, calculate the mean daily simple rate of return.\n",
    "#### Step 2: Plot bar chart\n",
    "Use matplotlib to create a bar chart comparing the mean daily simple rate of return for each stock. Label the chart appropriately. \n",
    "#### Step 3: Analyze mean rate of return\n",
    "Based on the mean rate of return, which stock would be the best option to invest in?"
   ]
  },
  {
   "cell_type": "code",
   "execution_count": 10,
   "metadata": {
    "ExecuteTime": {
     "end_time": "2019-09-20T17:50:13.182578Z",
     "start_time": "2019-09-20T17:50:13.175588Z"
    }
   },
   "outputs": [
    {
     "data": {
      "text/plain": [
       "Symbols\n",
       "MSFT    0.000835\n",
       "AMZN    0.000637\n",
       "AAPL    0.000728\n",
       "GOOG    0.000172\n",
       "FB     -0.002851\n",
       "dtype: float64"
      ]
     },
     "execution_count": 10,
     "metadata": {},
     "output_type": "execute_result"
    }
   ],
   "source": [
    "# calculate daily mean\n",
    "daily_mean = stock_data_daily_returns.mean()\n",
    "\n",
    "daily_mean"
   ]
  },
  {
   "cell_type": "code",
   "execution_count": 11,
   "metadata": {
    "ExecuteTime": {
     "end_time": "2019-09-20T17:50:14.237866Z",
     "start_time": "2019-09-20T17:50:14.231200Z"
    }
   },
   "outputs": [
    {
     "data": {
      "text/plain": [
       "Index(['MSFT', 'AMZN', 'AAPL', 'GOOG', 'FB'], dtype='object', name='Symbols')"
      ]
     },
     "execution_count": 11,
     "metadata": {},
     "output_type": "execute_result"
    }
   ],
   "source": [
    "# daily mean index for the x axis\n",
    "daily_mean.keys()"
   ]
  },
  {
   "cell_type": "code",
   "execution_count": 12,
   "metadata": {
    "ExecuteTime": {
     "end_time": "2019-09-20T17:50:45.153005Z",
     "start_time": "2019-09-20T17:50:45.142751Z"
    }
   },
   "outputs": [
    {
     "data": {
      "text/plain": [
       "[0.0008351415857347745,\n",
       " 0.0006374924982706108,\n",
       " 0.0007281705877363903,\n",
       " 0.00017200115538960566,\n",
       " -0.002851202557554472]"
      ]
     },
     "execution_count": 12,
     "metadata": {},
     "output_type": "execute_result"
    }
   ],
   "source": [
    "# grab each daily mean value for the y axis\n",
    "height = []\n",
    "for key in daily_mean.keys():\n",
    "    height.append(daily_mean[key])\n",
    "height"
   ]
  },
  {
   "cell_type": "code",
   "execution_count": 13,
   "metadata": {
    "ExecuteTime": {
     "end_time": "2019-09-20T17:51:02.403534Z",
     "start_time": "2019-09-20T17:51:02.390502Z"
    }
   },
   "outputs": [
    {
     "data": {
      "text/plain": [
       "array([0, 1, 2, 3, 4])"
      ]
     },
     "execution_count": 13,
     "metadata": {},
     "output_type": "execute_result"
    }
   ],
   "source": [
    "# arrange keys on x axis based on length\n",
    "x_pos = np.arange(len(daily_mean.keys()))\n",
    "x_pos"
   ]
  },
  {
   "cell_type": "code",
   "execution_count": 14,
   "metadata": {
    "ExecuteTime": {
     "end_time": "2019-09-20T17:51:12.379757Z",
     "start_time": "2019-09-20T17:51:12.264416Z"
    }
   },
   "outputs": [
    {
     "data": {
      "image/png": "[encoded data removed]",
      "text/plain": [
       "<Figure size 432x288 with 1 Axes>"
      ]
     },
     "metadata": {
      "needs_background": "light"
     },
     "output_type": "display_data"
    }
   ],
   "source": [
    "# plot bars\n",
    "plt.bar(x_pos, height)\n",
    " \n",
    "# create names on the x-axis\n",
    "plt.xticks(x_pos, daily_mean.keys())\n",
    "\n",
    "# label chart\n",
    "plt.xlabel(\"Tech_Stocks\")\n",
    "plt.ylabel(\"daily mean\")\n",
    "plt.title(\"daily mean rate of return\")\n",
    "\n",
    "# show graphic\n",
    "plt.show()"
   ]
  },
  {
   "cell_type": "markdown",
   "metadata": {},
   "source": [
    "Facebook has the highest mean simple rate of return over the period of data collected. Thus Facebook would have been a good choice for investment over this period of time. Google, on the other hand, has the lowest mean simple rate of return over the period."
   ]
  },
  {
   "cell_type": "markdown",
   "metadata": {},
   "source": [
    "### 7. Calculate and plot the variance."
   ]
  },
  {
   "cell_type": "markdown",
   "metadata": {},
   "source": [
    "#### Step 1: Calculate the variance\n",
    "For each stock, calculate the variance of the mean daily simple rate of return.\n",
    "#### Step 2: Plot bar chart\n",
    "Use matplotlib to create a bar chart comparing the variance for each stock. Label the chart appropriately. \n",
    "#### Step 3: Analyse the variance\n",
    "Based on the variance, which stock would be the riskiest to invest in?"
   ]
  },
  {
   "cell_type": "code",
   "execution_count": 15,
   "metadata": {
    "ExecuteTime": {
     "end_time": "2019-09-20T17:54:01.096986Z",
     "start_time": "2019-09-20T17:54:01.081944Z"
    }
   },
   "outputs": [
    {
     "data": {
      "text/plain": [
       "Symbols\n",
       "MSFT    0.000064\n",
       "AMZN    0.000093\n",
       "AAPL    0.000114\n",
       "GOOG    0.000085\n",
       "FB      0.001223\n",
       "dtype: float64"
      ]
     },
     "execution_count": 15,
     "metadata": {},
     "output_type": "execute_result"
    }
   ],
   "source": [
    "# calculate variance\n",
    "daily_var = stock_data_daily_returns.var()\n",
    "daily_var"
   ]
  },
  {
   "cell_type": "code",
   "execution_count": 16,
   "metadata": {},
   "outputs": [
    {
     "data": {
      "text/plain": [
       "Index(['MSFT', 'AMZN', 'AAPL', 'GOOG', 'FB'], dtype='object', name='Symbols')"
      ]
     },
     "execution_count": 16,
     "metadata": {},
     "output_type": "execute_result"
    }
   ],
   "source": [
    "# variance index for the x axis\n",
    "daily_var.keys()"
   ]
  },
  {
   "cell_type": "code",
   "execution_count": 17,
   "metadata": {
    "ExecuteTime": {
     "end_time": "2019-09-20T17:54:43.221113Z",
     "start_time": "2019-09-20T17:54:43.212348Z"
    }
   },
   "outputs": [
    {
     "data": {
      "text/plain": [
       "[6.390799643606629e-05,\n",
       " 9.276060882242593e-05,\n",
       " 0.00011425978650571778,\n",
       " 8.474293715045641e-05,\n",
       " 0.001223285521977443]"
      ]
     },
     "execution_count": 17,
     "metadata": {},
     "output_type": "execute_result"
    }
   ],
   "source": [
    "# grab each variance value for the y axis\n",
    "height = []\n",
    "for key in daily_var.keys():\n",
    "    height.append(daily_var[key])\n",
    "height"
   ]
  },
  {
   "cell_type": "code",
   "execution_count": 18,
   "metadata": {
    "ExecuteTime": {
     "end_time": "2019-09-20T17:54:52.917645Z",
     "start_time": "2019-09-20T17:54:52.910996Z"
    }
   },
   "outputs": [
    {
     "data": {
      "text/plain": [
       "array([0, 1, 2, 3, 4])"
      ]
     },
     "execution_count": 18,
     "metadata": {},
     "output_type": "execute_result"
    }
   ],
   "source": [
    "# arrange keys on x axis based on length\n",
    "x_pos = np.arange(len(daily_var.keys()))\n",
    "x_pos"
   ]
  },
  {
   "cell_type": "code",
   "execution_count": 19,
   "metadata": {
    "ExecuteTime": {
     "end_time": "2019-09-20T17:55:30.943434Z",
     "start_time": "2019-09-20T17:55:30.796988Z"
    }
   },
   "outputs": [
    {
     "data": {
      "image/png": "[encoded data removed]",
      "text/plain": [
       "<Figure size 432x288 with 1 Axes>"
      ]
     },
     "metadata": {
      "needs_background": "light"
     },
     "output_type": "display_data"
    }
   ],
   "source": [
    "# plot bars\n",
    "plt.bar(x_pos, height)\n",
    " \n",
    "# create names on the x-axis\n",
    "plt.xticks(x_pos, daily_var.keys())\n",
    "\n",
    "# label chart\n",
    "plt.xlabel(\"Tech_Stocks\")\n",
    "plt.ylabel(\"variance\")\n",
    "plt.title(\"daily variance\")\n",
    "\n",
    "# show graphic\n",
    "plt.show()"
   ]
  },
  {
   "cell_type": "markdown",
   "metadata": {},
   "source": [
    "Facebook shows the highest variance of all the stocks, indicating it can be a riskier investment. Google shows the lowest variance, indicating that the returns are more predictable. This goes along with the typical understanding of higher return, high risks stocks, and lower return, low risk stocks."
   ]
  },
  {
   "cell_type": "markdown",
   "metadata": {},
   "source": [
    "### 8. Calculate and plot the standard deviation"
   ]
  },
  {
   "cell_type": "markdown",
   "metadata": {},
   "source": [
    "#### Step 1: Calculate the standard deviation\n",
    "For each stock, calculate the standard deviation of the mean daily simple rate of return.\n",
    "\n",
    "#### Step 2: Plot the bar chart\n",
    "Use matplotlib to create a bar chart comparing the standard deviation of the mean daily simple rate of return of each stock. Label the chart appropriately. \n",
    "\n",
    "#### Step 3: Analyze the standard deviation\n",
    "Based on the standard deviation of the rates of return, which stock would you choose to invest in and why?"
   ]
  },
  {
   "cell_type": "code",
   "execution_count": 20,
   "metadata": {
    "ExecuteTime": {
     "end_time": "2019-09-20T17:56:59.249270Z",
     "start_time": "2019-09-20T17:56:59.242409Z"
    }
   },
   "outputs": [
    {
     "data": {
      "text/plain": [
       "Symbols\n",
       "MSFT    0.007994\n",
       "AMZN    0.009631\n",
       "AAPL    0.010689\n",
       "GOOG    0.009206\n",
       "FB      0.034975\n",
       "dtype: float64"
      ]
     },
     "execution_count": 20,
     "metadata": {},
     "output_type": "execute_result"
    }
   ],
   "source": [
    "# calculate standard deviation\n",
    "daily_std = stock_data_daily_returns.std()\n",
    "daily_std"
   ]
  },
  {
   "cell_type": "code",
   "execution_count": 21,
   "metadata": {},
   "outputs": [
    {
     "data": {
      "text/plain": [
       "Index(['MSFT', 'AMZN', 'AAPL', 'GOOG', 'FB'], dtype='object', name='Symbols')"
      ]
     },
     "execution_count": 21,
     "metadata": {},
     "output_type": "execute_result"
    }
   ],
   "source": [
    "# standard deviation index for the x axis\n",
    "daily_var.keys()"
   ]
  },
  {
   "cell_type": "code",
   "execution_count": 22,
   "metadata": {
    "ExecuteTime": {
     "end_time": "2019-09-20T17:57:13.116345Z",
     "start_time": "2019-09-20T17:57:13.110010Z"
    }
   },
   "outputs": [
    {
     "data": {
      "text/plain": [
       "[0.007994247709201053,\n",
       " 0.00963123090899735,\n",
       " 0.01068923694684133,\n",
       " 0.009205592710437303,\n",
       " 0.03497549888103732]"
      ]
     },
     "execution_count": 22,
     "metadata": {},
     "output_type": "execute_result"
    }
   ],
   "source": [
    "# grab each standard deviation value for the y axis\n",
    "height = []\n",
    "for key in daily_std.keys():\n",
    "    height.append(daily_std[key])\n",
    "height"
   ]
  },
  {
   "cell_type": "code",
   "execution_count": 23,
   "metadata": {
    "ExecuteTime": {
     "end_time": "2019-09-20T17:57:21.959802Z",
     "start_time": "2019-09-20T17:57:21.950483Z"
    }
   },
   "outputs": [
    {
     "data": {
      "text/plain": [
       "array([0, 1, 2, 3, 4])"
      ]
     },
     "execution_count": 23,
     "metadata": {},
     "output_type": "execute_result"
    }
   ],
   "source": [
    "# arrange keys on x axis based on length\n",
    "x_pos = np.arange(len(daily_std.keys()))\n",
    "x_pos"
   ]
  },
  {
   "cell_type": "code",
   "execution_count": 24,
   "metadata": {
    "ExecuteTime": {
     "end_time": "2019-09-20T17:57:35.824949Z",
     "start_time": "2019-09-20T17:57:35.725823Z"
    }
   },
   "outputs": [
    {
     "data": {
      "image/png": "[encoded data removed]",
      "text/plain": [
       "<Figure size 432x288 with 1 Axes>"
      ]
     },
     "metadata": {
      "needs_background": "light"
     },
     "output_type": "display_data"
    }
   ],
   "source": [
    "# plot bars\n",
    "plt.bar(x_pos, height)\n",
    " \n",
    "# create names on the x-axis\n",
    "plt.xticks(x_pos, daily_std.keys())\n",
    "\n",
    "# label chart\n",
    "plt.xlabel(\"Tech_Stocks\")\n",
    "plt.ylabel(\"std\")\n",
    "plt.title(\"daily std\")\n",
    "\n",
    "# show graphic\n",
    "plt.show()"
   ]
  },
  {
   "cell_type": "markdown",
   "metadata": {
    "ExecuteTime": {
     "end_time": "2019-09-20T18:20:15.272923Z",
     "start_time": "2019-09-20T18:20:15.108312Z"
    }
   },
   "source": [
    "The answer to this question depends on your investment preferences. Facebook is the most volatile stock, as it has the largest standard deviation. It also, however, has the largest mean return. If you are a more risky investor, this could be your stock of choice. Google, on the other hand, is the least volatile stock, but has the lowest mean return."
   ]
  },
  {
   "cell_type": "markdown",
   "metadata": {},
   "source": [
    "### 9. Calculate the correlations\n",
    "Calculate the correlations between each of the stocks. Which stocks are positively correlated? Which are negatively correlated? Which have little correlation?"
   ]
  },
  {
   "cell_type": "code",
   "execution_count": 26,
   "metadata": {
    "ExecuteTime": {
     "end_time": "2019-09-20T18:20:31.790079Z",
     "start_time": "2019-09-20T18:20:31.774044Z"
    }
   },
   "outputs": [
    {
     "ename": "NameError",
     "evalue": "name 'sns' is not defined",
     "output_type": "error",
     "traceback": [
      "\u001b[0;31m---------------------------------------------------------------------------\u001b[0m",
      "\u001b[0;31mNameError\u001b[0m                                 Traceback (most recent call last)",
      "Input \u001b[0;32mIn [26]\u001b[0m, in \u001b[0;36m<cell line: 3>\u001b[0;34m()\u001b[0m\n\u001b[1;32m      1\u001b[0m corr_matrix\u001b[38;5;241m=\u001b[39mstock_data_daily_returns\u001b[38;5;241m.\u001b[39mcorr()\n\u001b[0;32m----> 3\u001b[0m \u001b[43msns\u001b[49m\u001b[38;5;241m.\u001b[39mheatmap(corr_matrix)\n",
      "\u001b[0;31mNameError\u001b[0m: name 'sns' is not defined"
     ]
    }
   ],
   "source": []
  },
  {
   "cell_type": "markdown",
   "metadata": {},
   "source": [
    "None of the stocks are negatively correlated. Microsoft and Google are highly correlated, while Facebook and Apple exhibit the lowest correlation."
   ]
  }
 ],
 "metadata": {
  "kernelspec": {
   "display_name": "Python 3 (ipykernel)",
   "language": "python",
   "name": "python3"
  },
  "language_info": {
   "codemirror_mode": {
    "name": "ipython",
    "version": 3
   },
   "file_extension": ".py",
   "mimetype": "text/x-python",
   "name": "python",
   "nbconvert_exporter": "python",
   "pygments_lexer": "ipython3",
   "version": "3.8.8"
  },
  "latex_envs": {
   "LaTeX_envs_menu_present": true,
   "autoclose": false,
   "autocomplete": true,
   "bibliofile": "biblio.bib",
   "cite_by": "apalike",
   "current_citInitial": 1,
   "eqLabelWithNumbers": true,
   "eqNumInitial": 1,
   "hotkeys": {
    "equation": "Ctrl-E",
    "itemize": "Ctrl-I"
   },
   "labels_anchors": false,
   "latex_user_defs": false,
   "report_style_numbering": false,
   "user_envs_cfg": false
  }
 },
 "nbformat": 4,
 "nbformat_minor": 2
}
